{
  "cells": [
    {
      "cell_type": "code",
      "execution_count": null,
      "id": "6cd0c781-b80c-4cdc-af6d-79d29fd4ec8e",
      "metadata": {
        "jupyter": {
          "outputs_hidden": false,
          "source_hidden": false
        },
        "noteable": {
          "cell_type": "code"
        }
      },
      "outputs": [],
      "source": []
    },
    {
      "cell_type": "code",
      "execution_count": null,
      "id": "2d283359-1c73-4181-a5cb-d88a84850219",
      "metadata": {
        "jupyter": {
          "outputs_hidden": false,
          "source_hidden": false
        },
        "noteable": {
          "cell_type": "code"
        }
      },
      "outputs": [],
      "source": []
    },
    {
      "cell_type": "markdown",
      "id": "57809534-dd2a-4b5a-968e-f8cca17371f4",
      "metadata": {
        "noteable": {
          "cell_type": "markdown"
        }
      },
      "source": [
        "# Python Fundamentals\n",
        "Welcome to the Python Fundamentals notebook! In this notebook, we'll cover the basics of programming with Python. Whether you're a complete beginner or just looking for a refresher, this notebook will guide you through the essential concepts with examples and exercises."
      ]
    },
    {
      "cell_type": "markdown",
      "id": "10e7d5be-1d40-4777-a6f9-60e0c1b06280",
      "metadata": {
        "noteable": {
          "cell_type": "markdown"
        }
      },
      "source": [
        "## Variables and Data Types\n",
        "In programming, a variable is used to store information that can be used and manipulated throughout a program. It gets its name because the information contained can vary or change. Let's dive into some examples."
      ]
    },
    {
      "cell_type": "code",
      "execution_count": 2,
      "id": "d996431f-b01f-4338-ace9-d15f9b59e7b7",
      "metadata": {
        "ExecuteTime": {
          "end_time": "2023-08-16T11:08:08.495901+00:00",
          "start_time": "2023-08-16T11:08:08.338036+00:00"
        },
        "noteable": {
          "cell_type": "code",
          "output_collection_id": "8b3bfb81-d615-4bee-ae93-18e4e260f7b5"
        }
      },
      "outputs": [
        {
          "name": "stdout",
          "output_type": "stream",
          "text": [
            "Name: John\n",
            "Age: 22\n",
            "Height: 170\n",
            "is he an Admin: True\n"
          ]
        }
      ],
      "source": [
        "# Declaring a variable\n",
        "first_name = \"John\"\n",
        "age = 22\n",
        "height = 170\n",
        "isAdmin = True\n",
        "\n",
        "\n",
        "# Printing the variables\n",
        "print(\"Name:\", first_name)\n",
        "print(\"Age:\", age)\n",
        "print(\"Height:\", height)\n",
        "print(\"is he an Admin:\", isAdmin)"
      ]
    },
    {
      "cell_type": "markdown",
      "id": "11890fb5-5915-42db-8796-fdb0504c7ad8",
      "metadata": {
        "noteable": {
          "cell_type": "markdown"
        }
      },
      "source": [
        "In the above example, we declared three variables: `name`, `age`, and `height`. Each variable holds a different type of data:\n",
        "- `name` is a string (text).\n",
        "- `age` is an integer (whole number).\n",
        "- `height` is a float (number with decimal points).\n",
        "Python automatically determines the data type of a variable based on the value assigned to it. This feature is known as dynamic typing."
      ]
    },
    {
      "cell_type": "markdown",
      "id": "68819fe6-0a65-43d7-b1af-0e9a8e1d43bb",
      "metadata": {
        "noteable": {
          "cell_type": "markdown"
        }
      },
      "source": [
        "## Exercise 1\n",
        "Declare three variables:\n",
        "1. `book_title` that stores the title of your favorite book as a string.\n",
        "2. `pages` that stores the number of pages in that book as an integer.\n",
        "3. `rating` that stores your rating for the book out of 5 as a float.\n",
        "Print out the values of these variables."
      ]
    },
    {
      "cell_type": "markdown",
      "id": "01d57073-ba0e-473d-8c5e-cff9b368f859",
      "metadata": {
        "noteable": {
          "cell_type": "markdown"
        }
      },
      "source": [
        "## Conditional Statements\n",
        "Conditional statements allow us to make decisions in our code. The most common conditional statements are `if`, `elif`, and `else`. They are used to perform different actions based on different conditions."
      ]
    },
    {
      "cell_type": "code",
      "execution_count": null,
      "id": "2a4f7904-7043-47bb-ae59-f85ee02e0aca",
      "metadata": {
        "ExecuteTime": {
          "end_time": "2023-08-16T11:09:15.769143+00:00",
          "start_time": "2023-08-16T11:09:15.611448+00:00"
        },
        "noteable": {
          "cell_type": "code",
          "output_collection_id": "769c7c14-ded4-4742-b5f8-cab0cd6c7daa"
        }
      },
      "outputs": [],
      "source": [
        "# Example of conditional statements\n",
        "weather = \"sunny\"\n",
        "\n",
        "if weather == \"sunny\":\n",
        "    print(\"It's a sunny day!\")\n",
        "elif weather == \"rainy\":\n",
        "    print(\"It's raining. Don't forget your umbrella!\")\n",
        "else:\n",
        "    print(\"It's a cloudy day.\")"
      ]
    },
    {
      "cell_type": "markdown",
      "id": "345284f8-5d64-4adb-a49c-85b9ef60bcac",
      "metadata": {
        "noteable": {
          "cell_type": "markdown"
        }
      },
      "source": [
        "In the example above, we used an `if` statement to check if the value of the `weather` variable is \"sunny\". Since it is, the code inside the `if` block is executed, and we see the output \"It's a sunny day!\".\n",
        "If the value of `weather` was \"rainy\", the code inside the `elif` block would be executed. If the value of `weather` was neither \"sunny\" nor \"rainy\", the code inside the `else` block would be executed."
      ]
    },
    {
      "cell_type": "markdown",
      "id": "3f30e2a3-6444-4ba4-ab25-ad9a23b1a99b",
      "metadata": {
        "noteable": {
          "cell_type": "markdown"
        }
      },
      "source": [
        "## Exercise 2\n",
        "Write a conditional statement that checks the value of a variable `score`. If the score is 90 or above, print \"A\". If the score is between 80 and 89, print \"B\". If the score is between 70 and 79, print \"C\". If the score is between 60 and 69, print \"D\". If the score is below 60, print \"F\"."
      ]
    },
    {
      "cell_type": "code",
      "execution_count": null,
      "id": "4da5091c-ff98-4331-af4c-345f33260029",
      "metadata": {
        "ExecuteTime": {
          "end_time": "2023-08-16T11:10:21.370328+00:00",
          "start_time": "2023-08-16T11:10:21.212052+00:00"
        },
        "noteable": {
          "cell_type": "code",
          "output_collection_id": "a1d1de90-2475-48fa-9fa7-66fe9c1aea30"
        }
      },
      "outputs": [],
      "source": [
        "# Example solution for Exercise 2\n",
        "score = 85  # You can change this value to test different scores\n",
        "\n",
        "if score >= 90:\n",
        "    print(\"A\")\n",
        "elif score >= 80:\n",
        "    print(\"B\")\n",
        "elif score >= 70:\n",
        "    print(\"C\")\n",
        "elif score >= 60:\n",
        "    print(\"D\")\n",
        "else:\n",
        "    print(\"F\")"
      ]
    },
    {
      "cell_type": "markdown",
      "id": "d37bbd5a-12a3-4a42-9462-9370af24d560",
      "metadata": {
        "noteable": {
          "cell_type": "markdown"
        }
      },
      "source": [
        "The score of 85 falls in the range of 80 to 89, so the output is \"B\". You can change the value of the `score` variable in the code cell to test different scores and see the corresponding grade."
      ]
    },
    {
      "cell_type": "markdown",
      "id": "71bf2cf5-7dde-4c68-86ca-738d5a261379",
      "metadata": {
        "noteable": {
          "cell_type": "markdown"
        }
      },
      "source": [
        "## Loops\n",
        "Loops are used in programming to repeat a specific block of code. The two most common types of loops in Python are the `for` loop and the `while` loop."
      ]
    },
    {
      "cell_type": "code",
      "execution_count": null,
      "id": "297a3be7-caa5-48be-b56f-d791e8b1099b",
      "metadata": {
        "ExecuteTime": {
          "end_time": "2023-08-16T11:11:04.135574+00:00",
          "start_time": "2023-08-16T11:11:03.978308+00:00"
        },
        "noteable": {
          "cell_type": "code",
          "output_collection_id": "d60a025a-307f-4033-a6b7-84ee348b3212"
        }
      },
      "outputs": [],
      "source": [
        "# Example of a for loop\n",
        "for i in range(5):\n",
        "    print(i)"
      ]
    },
    {
      "cell_type": "markdown",
      "id": "0d91d6f0-4db6-48ca-9e83-c10128fcb408",
      "metadata": {
        "noteable": {
          "cell_type": "markdown"
        }
      },
      "source": [
        "In the `for` loop example above, we used the `range()` function to generate a sequence of numbers from 0 to 4. The loop iterates over each number in the sequence and prints it.\n",
        "Now, let's look at an example of a `while` loop."
      ]
    },
    {
      "cell_type": "code",
      "execution_count": null,
      "id": "2459583a-d6dd-465d-92d6-c5ff351d9253",
      "metadata": {
        "ExecuteTime": {
          "end_time": "2023-08-16T11:11:40.373748+00:00",
          "start_time": "2023-08-16T11:11:40.216735+00:00"
        },
        "noteable": {
          "cell_type": "code",
          "output_collection_id": "0a23797f-e9c1-4721-8b4d-ceaff658bde2"
        }
      },
      "outputs": [],
      "source": [
        "# Example of a while loop\n",
        "count = 0\n",
        "while count < 5:\n",
        "    print(count)\n",
        "    count += 1"
      ]
    },
    {
      "cell_type": "markdown",
      "id": "abc35ec3-6934-4d7e-b24a-110191a0e042",
      "metadata": {
        "noteable": {
          "cell_type": "markdown"
        }
      },
      "source": [
        "In the `while` loop example above, the loop continues to execute as long as the condition `count < 5` is true. Inside the loop, we print the value of `count` and then increment it by 1 using the `+=` operator. Once `count` reaches 5, the condition becomes false, and the loop stops executing."
      ]
    },
    {
      "cell_type": "markdown",
      "id": "d72339e0-de2c-44fb-b38d-0e9dae7affc9",
      "metadata": {
        "noteable": {
          "cell_type": "markdown"
        }
      },
      "source": [
        "## Exercise 3\n",
        "Write a `for` loop that prints the square of numbers from 1 to 10."
      ]
    },
    {
      "cell_type": "code",
      "execution_count": 3,
      "id": "4cffeae3-b3e1-4879-b1ce-63c06e44b4cf",
      "metadata": {
        "ExecuteTime": {
          "end_time": "2023-08-16T11:12:35.562934+00:00",
          "start_time": "2023-08-16T11:12:35.406325+00:00"
        },
        "noteable": {
          "cell_type": "code",
          "output_collection_id": "7be12137-e885-4913-9cb1-71793ca15b1d"
        }
      },
      "outputs": [
        {
          "name": "stdout",
          "output_type": "stream",
          "text": [
            "1\n",
            "4\n",
            "9\n",
            "16\n",
            "25\n",
            "36\n",
            "49\n",
            "64\n",
            "81\n",
            "100\n"
          ]
        }
      ],
      "source": [
        "# Example solution for Exercise 3\n",
        "for num in range(1, 11):\n",
        "    print(num ** 2)"
      ]
    },
    {
      "cell_type": "markdown",
      "id": "f31427b5-aa55-43cd-b6e1-f30206affa97",
      "metadata": {
        "noteable": {
          "cell_type": "markdown"
        }
      },
      "source": [
        "The loop above iterates over numbers from 1 to 10 and prints their squares. The `**` operator is used to raise a number to a power. In this case, we're squaring each number."
      ]
    },
    {
      "cell_type": "code",
      "execution_count": 11,
      "id": "9ce3ddae",
      "metadata": {},
      "outputs": [
        {
          "name": "stdout",
          "output_type": "stream",
          "text": [
            "1\n",
            "2\n",
            "fuzz\n",
            "4\n",
            "5\n",
            "fuzz\n",
            "7\n",
            "8\n",
            "fuzz\n",
            "10\n",
            "fuzz\n",
            "buzz\n",
            "fuzz\n",
            "20\n",
            "fuzz\n",
            "25\n"
          ]
        }
      ],
      "source": [
        "randomNum = [1, 2, 3, 4, 5, 6, 7, 8, 9, 10, 12, 15, 18, 20, 21, 25]\n",
        "\n",
        "for i in randomNum:\n",
        "    if i % 5 == 0 and i % 3 == 0: print(\"buzz\")\n",
        "    elif i % 3 == 0: print(\"fuzz\")\n",
        "    else: print(i)"
      ]
    },
    {
      "cell_type": "code",
      "execution_count": 13,
      "id": "2e076727",
      "metadata": {},
      "outputs": [
        {
          "name": "stdout",
          "output_type": "stream",
          "text": [
            "[1, 2, 'fuzz', 4, 5, 'fuzz', 7, 8, 'fuzz', 10, 'fuzz', 'buzz', 'fuzz', 20, 'fuzz', 25]\n"
          ]
        }
      ],
      "source": [
        "randomNum = [1, 2, 3, 4, 5, 6, 7, 8, 9, 10, 12, 15, 18, 20, 21, 25]\n",
        "\n",
        "output = [\"buzz\" if i % 5 == 0 and i % 3 == 0 else \"fuzz\" if i % 3 == 0 else i for i in randomNum]\n",
        "\n",
        "print(output)"
      ]
    },
    {
      "cell_type": "markdown",
      "id": "575b69d8",
      "metadata": {},
      "source": [
        "Return the number (count) of vowels in the given string.\n",
        "\n",
        "We will consider a, e, i, o, u as vowels for this Kata (but not y).\n",
        "\n",
        "The input string will only consist of lower case letters and/or spaces."
      ]
    },
    {
      "cell_type": "code",
      "execution_count": null,
      "id": "ad9dfbc2",
      "metadata": {},
      "outputs": [],
      "source": [
        "def get_count(sentence):\n",
        "    return sum(sentence.count(vowel) for vowel in 'aeiou')\n",
        "        # if a e i o u ipasok sa digits\n",
        "        # ibato ang length sa digit\n"
      ]
    },
    {
      "cell_type": "code",
      "execution_count": null,
      "id": "9ffefb78",
      "metadata": {},
      "outputs": [],
      "source": [
        "# negative\n",
        "# make_negative(1);  # return -1\n",
        "# make_negative(-5); # return -5\n",
        "# make_negative(0);  # return 0\n",
        "\n",
        "\n",
        "def make_negative( number ):\n",
        "    return abs(number)*-1;"
      ]
    },
    {
      "cell_type": "markdown",
      "id": "067f749c",
      "metadata": {},
      "source": [
        "### Your task is to make a function that can take any non-negative integer as an argument and return it with its digits in descending order. Essentially, rearrange the digits to create the highest possible number.\n",
        "\n",
        "Examples:\n",
        "\n",
        " - Input: 42145 Output: 54421\n",
        "\n",
        " - Input: 145263 Output: 654321\n",
        "\n",
        " - Input: 123456789 Output: 987654321"
      ]
    },
    {
      "cell_type": "code",
      "execution_count": 18,
      "id": "e06d2629",
      "metadata": {},
      "outputs": [
        {
          "data": {
            "text/plain": [
              "'43211'"
            ]
          },
          "execution_count": 18,
          "metadata": {},
          "output_type": "execute_result"
        }
      ],
      "source": [
        "def descend_oder(num):\n",
        "    return ''.join(sorted(str(num)))[::-1]\n",
        "\n",
        "descend_oder(32141)"
      ]
    },
    {
      "cell_type": "markdown",
      "id": "966e575a",
      "metadata": {},
      "source": [
        "Welcome. In this kata, you are asked to square every digit of a number and concatenate them.\n",
        "\n",
        "For example, if we run 9119 through the function, 811181 will come out, because 92 is 81 and 12 is 1. (81-1-1-81)\n",
        "\n",
        "Example #2: An input of 765 will/should return 493625 because 72 is 49, 62 is 36, and 52 is 25. (49-36-25)\n",
        "\n",
        "Note: The function accepts an integer and returns an integer.\n",
        "\n",
        "Happy Coding!"
      ]
    },
    {
      "cell_type": "code",
      "execution_count": 33,
      "id": "8fd85ad0",
      "metadata": {},
      "outputs": [
        {
          "data": {
            "text/plain": [
              "'941'"
            ]
          },
          "execution_count": 33,
          "metadata": {},
          "output_type": "execute_result"
        }
      ],
      "source": [
        "def square_digits(num):\n",
        "    return int(''.join(str(int(i)**2) for i in str(num)))\n",
        "square_digits(321)"
      ]
    },
    {
      "cell_type": "markdown",
      "id": "9085c20e",
      "metadata": {},
      "source": [
        "A square of squares\n",
        "\n",
        "You like building blocks. You especially like building blocks that are squares. And what you even like more, is to arrange them into a square of square building blocks!\n",
        "\n",
        "However, sometimes, you can't arrange them into a square. Instead, you end up with an ordinary rectangle! Those blasted things! If you just had a way to know, whether you're currently working in vain… Wait! That's it! You just have to check if your number of building blocks is a perfect square.\n",
        "\n",
        "Task\n",
        "\n",
        "Given an integral number, determine if it's a square number:\n",
        "\n",
        "In mathematics, a square number or perfect square is an integer that is the square of an integer; in other words, it is the product of some integer with itself.\n",
        "\n",
        "The tests will always use some integral number, so don't worry about that in dynamic typed languages."
      ]
    },
    {
      "cell_type": "code",
      "execution_count": 35,
      "id": "c9814ddf",
      "metadata": {},
      "outputs": [],
      "source": [
        "def is_square(n):\n",
        "    return n >= 0 and (n**0.5) ** 2 == n\n",
        "    "
      ]
    },
    {
      "cell_type": "code",
      "execution_count": 6,
      "id": "0e4f3139",
      "metadata": {},
      "outputs": [
        {
          "name": "stdout",
          "output_type": "stream",
          "text": [
            "blue, red\n",
            "blue, red\n",
            "blue, red\n"
          ]
        }
      ],
      "source": [
        "persons = [\n",
        "    {\n",
        "        \"name\": \"Lee\",\n",
        "        \"colors\": [\"blue\", \"red\"]\n",
        "    },\n",
        "    {\n",
        "        \"name\": \"John\",\n",
        "        \"colors\": [\"blue\", \"red\"]\n",
        "    },\n",
        "    {\n",
        "        \"name\": \"Lee\",\n",
        "        \"colors\": [\"blue\", \"red\"]\n",
        "    },\n",
        "]\n",
        "for person in persons:\n",
        "    print(', '.join(person[\"colors\"]))"
      ]
    },
    {
      "cell_type": "code",
      "execution_count": 12,
      "id": "1d3bc225",
      "metadata": {},
      "outputs": [
        {
          "ename": "KeyError",
          "evalue": "17",
          "output_type": "error",
          "traceback": [
            "\u001b[0;31m---------------------------------------------------------------------------\u001b[0m",
            "\u001b[0;31mKeyError\u001b[0m                                  Traceback (most recent call last)",
            "Cell \u001b[0;32mIn[12], line 26\u001b[0m\n\u001b[1;32m     24\u001b[0m str_ \u001b[39m=\u001b[39m \u001b[39m\"\u001b[39m\u001b[39mhigher than\u001b[39m\u001b[39m\"\u001b[39m\n\u001b[1;32m     25\u001b[0m val \u001b[39m=\u001b[39m \u001b[39m1\u001b[39m\n\u001b[0;32m---> 26\u001b[0m result \u001b[39m=\u001b[39m inf_database(range_, str_, val)\n\u001b[1;32m     27\u001b[0m \u001b[39mprint\u001b[39m(result)\n",
            "Cell \u001b[0;32mIn[12], line 20\u001b[0m, in \u001b[0;36minf_database\u001b[0;34m(range_, str_, val)\u001b[0m\n\u001b[1;32m     17\u001b[0m \u001b[39mif\u001b[39;00m str_ \u001b[39mnot\u001b[39;00m \u001b[39min\u001b[39;00m valid_constraints:\n\u001b[1;32m     18\u001b[0m     \u001b[39mreturn\u001b[39;00m \u001b[39m\"\u001b[39m\u001b[39mwrong constraint\u001b[39m\u001b[39m\"\u001b[39m\n\u001b[0;32m---> 20\u001b[0m filtered_numbers \u001b[39m=\u001b[39m [num \u001b[39mfor\u001b[39;49;00m num \u001b[39min\u001b[39;49;00m \u001b[39mrange\u001b[39;49m(range_[\u001b[39m0\u001b[39;49m], range_[\u001b[39m1\u001b[39;49m] \u001b[39m+\u001b[39;49m \u001b[39m1\u001b[39;49m) \u001b[39mif\u001b[39;49;00m valid_constraints[str_](A001055[num], val)]\n\u001b[1;32m     21\u001b[0m \u001b[39mreturn\u001b[39;00m \u001b[39mlen\u001b[39m(filtered_numbers), filtered_numbers\n",
            "Cell \u001b[0;32mIn[12], line 20\u001b[0m, in \u001b[0;36m<listcomp>\u001b[0;34m(.0)\u001b[0m\n\u001b[1;32m     17\u001b[0m \u001b[39mif\u001b[39;00m str_ \u001b[39mnot\u001b[39;00m \u001b[39min\u001b[39;00m valid_constraints:\n\u001b[1;32m     18\u001b[0m     \u001b[39mreturn\u001b[39;00m \u001b[39m\"\u001b[39m\u001b[39mwrong constraint\u001b[39m\u001b[39m\"\u001b[39m\n\u001b[0;32m---> 20\u001b[0m filtered_numbers \u001b[39m=\u001b[39m [num \u001b[39mfor\u001b[39;00m num \u001b[39min\u001b[39;00m \u001b[39mrange\u001b[39m(range_[\u001b[39m0\u001b[39m], range_[\u001b[39m1\u001b[39m] \u001b[39m+\u001b[39m \u001b[39m1\u001b[39m) \u001b[39mif\u001b[39;00m valid_constraints[str_](A001055[num], val)]\n\u001b[1;32m     21\u001b[0m \u001b[39mreturn\u001b[39;00m \u001b[39mlen\u001b[39m(filtered_numbers), filtered_numbers\n",
            "\u001b[0;31mKeyError\u001b[0m: 17"
          ]
        }
      ],
      "source": [
        "A001055 = {\n",
        "        1: 1, \n",
        "        2: 1, \n",
        "        3: 1, \n",
        "        4: 2, \n",
        "        5: 1, \n",
        "        6: 2, \n",
        "        7: 1, \n",
        "        8: 3, \n",
        "        9: 2, \n",
        "        10: 2,\n",
        "        11: 1, \n",
        "        12: 4, \n",
        "        13: 1, \n",
        "        14: 2, \n",
        "        15: 2, \n",
        "        16: 5 \n",
        "    } # to remember you the name of the database\n",
        "\n",
        "def inf_database(range_, str_, val):\n",
        "    valid_constraints = {\n",
        "        \"equals to\": lambda x, y: x == y,\n",
        "        \"higher than\": lambda x, y: x > y,\n",
        "        \"lower than\": lambda x, y: x < y,\n",
        "        \"higher and equals to\": lambda x, y: x >= y,\n",
        "        \"lower and equals to\": lambda x, y: x <= y\n",
        "    }\n",
        "\n",
        "    if str_ not in valid_constraints:\n",
        "        return \"wrong constraint\"\n",
        "\n",
        "    filtered_numbers = [num for num in range(range_[0], range_[1] + 1) if valid_constraints[str_](A001055[num], val)]\n",
        "    return len(filtered_numbers), filtered_numbers\n",
        "\n",
        "range_ = [10, 21]\n",
        "str_ = \"higher than\"\n",
        "val = 1\n",
        "result = inf_database(range_, str_, val)\n",
        "print(result)"
      ]
    },
    {
      "cell_type": "code",
      "execution_count": null,
      "id": "5d31d67b",
      "metadata": {},
      "outputs": [],
      "source": [
        "import operator\n",
        "\n",
        "request_validation={ \"higher than\": operator.gt,\n",
        "        \"lower than\": operator.lt,\n",
        "        \"equals to\": operator.eq,\n",
        "        \"higher and equals to\": operator.ge,\n",
        "        \"lower and equals to\" : operator.le,\n",
        "}\n",
        "\n",
        "def inf_database(rng, s, v):\n",
        "    rule = request_validation.get(s)\n",
        "    if not rule: return \"wrong constraint\"\n",
        "    out = [ n for n in range(rng[0],rng[1]+1) if rule(A001055[n],v) ]\n",
        "    return len(out),out"
      ]
    }
  ],
  "metadata": {
    "kernel_info": {
      "name": "python3"
    },
    "kernelspec": {
      "display_name": "Python 3.9",
      "language": "python",
      "name": "python3"
    },
    "language_info": {
      "codemirror_mode": {
        "name": "ipython",
        "version": 3
      },
      "file_extension": ".py",
      "mimetype": "text/x-python",
      "name": "python",
      "nbconvert_exporter": "python",
      "pygments_lexer": "ipython3",
      "version": "3.11.3"
    },
    "noteable": {
      "last_transaction_id": "13cbb9cc-fad9-41f6-bba6-d82f70da7ed1"
    },
    "noteable-chatgpt": {
      "create_notebook": {
        "openai_conversation_id": "68d3f0bd-44ec-5212-aa0e-bea51c1c466b",
        "openai_ephemeral_user_id": "00085233-e460-577c-974e-ccd1b7b47673",
        "openai_subdivision1_iso_code": "PH-00"
      }
    },
    "selected_hardware_size": "small"
  },
  "nbformat": 4,
  "nbformat_minor": 5
}
