{
 "cells": [
  {
   "cell_type": "code",
   "execution_count": 1,
   "metadata": {},
   "outputs": [
    {
     "name": "stdout",
     "output_type": "stream",
     "text": [
      "Hello CodeMNL\n"
     ]
    }
   ],
   "source": [
    "print(\"Hello CodeMNL\")"
   ]
  },
  {
   "cell_type": "markdown",
   "metadata": {},
   "source": [
    "## Variables and Data Types\n",
    "- Understand different data types\n",
    "- Declare and initialize variables\n",
    "- Reassign values to variables\n",
    "- Use meaningful variable names"
   ]
  },
  {
   "cell_type": "code",
   "execution_count": 2,
   "metadata": {},
   "outputs": [
    {
     "name": "stdout",
     "output_type": "stream",
     "text": [
      "Hi, My name is Tito D, my grade is 90 so I am slightly smart\n"
     ]
    }
   ],
   "source": [
    "5\n",
    "-5\n",
    "1.2\n",
    "'a'\n",
    "True\n",
    "False\n",
    "\n",
    "my_grade = 90\n",
    "my_name = 'Tito D'\n",
    "is_cute = True\n",
    "is_smart = 'slightly smart'\n",
    "\n",
    "\n",
    "print(f\"Hi, My name is {my_name}, my grade is {my_grade} so I am {is_smart}\")\n",
    "\n"
   ]
  },
  {
   "cell_type": "markdown",
   "metadata": {},
   "source": [
    "## Basic Input and Output\n",
    "- use input()\n",
    "- display output"
   ]
  },
  {
   "cell_type": "code",
   "execution_count": null,
   "metadata": {},
   "outputs": [],
   "source": [
    "my_name = input(\"Please type your name:\")\n",
    "print(f\"Hi, my name is {my_name}\")"
   ]
  }
 ],
 "metadata": {
  "kernelspec": {
   "display_name": "Python 3",
   "language": "python",
   "name": "python3"
  },
  "language_info": {
   "codemirror_mode": {
    "name": "ipython",
    "version": 3
   },
   "file_extension": ".py",
   "mimetype": "text/x-python",
   "name": "python",
   "nbconvert_exporter": "python",
   "pygments_lexer": "ipython3",
   "version": "3.11.3"
  },
  "orig_nbformat": 4
 },
 "nbformat": 4,
 "nbformat_minor": 2
}
